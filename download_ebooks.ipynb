{
 "cells": [
  {
   "cell_type": "markdown",
   "metadata": {},
   "source": [
    "# Bulk download of ebooks"
   ]
  },
  {
   "cell_type": "code",
   "execution_count": 1,
   "metadata": {
    "ExecuteTime": {
     "end_time": "2020-04-29T14:41:54.559409Z",
     "start_time": "2020-04-29T14:41:53.854418Z"
    }
   },
   "outputs": [],
   "source": [
    "import requests\n",
    "from bs4 import BeautifulSoup\n",
    "import re"
   ]
  },
  {
   "cell_type": "markdown",
   "metadata": {},
   "source": [
    "#### Change home_dir variable to the destination path"
   ]
  },
  {
   "cell_type": "code",
   "execution_count": 2,
   "metadata": {
    "ExecuteTime": {
     "end_time": "2020-04-29T14:41:54.563415Z",
     "start_time": "2020-04-29T14:41:54.560408Z"
    }
   },
   "outputs": [],
   "source": [
    "home_dir = 'SpringerEbooks/'"
   ]
  },
  {
   "cell_type": "code",
   "execution_count": 3,
   "metadata": {
    "ExecuteTime": {
     "end_time": "2020-04-29T14:41:54.572408Z",
     "start_time": "2020-04-29T14:41:54.565415Z"
    }
   },
   "outputs": [],
   "source": [
    "target = r'https://towardsdatascience.com/springer-has-released-65-machine-learning-and-data-books-for-free-961f8181f189'"
   ]
  },
  {
   "cell_type": "code",
   "execution_count": 4,
   "metadata": {
    "ExecuteTime": {
     "end_time": "2020-04-29T14:41:55.886628Z",
     "start_time": "2020-04-29T14:41:54.573408Z"
    }
   },
   "outputs": [],
   "source": [
    "page_html = requests.get(target)\n",
    "soup = BeautifulSoup(page_html.content, 'lxml')"
   ]
  },
  {
   "cell_type": "code",
   "execution_count": 5,
   "metadata": {
    "ExecuteTime": {
     "end_time": "2020-04-29T14:41:55.897636Z",
     "start_time": "2020-04-29T14:41:55.887600Z"
    }
   },
   "outputs": [],
   "source": [
    "book_urls = []\n",
    "for link in soup.findAll('a', attrs={'href': re.compile(\"^http://link.springer.com\")}):\n",
    "    book_urls.append(link.get('href'))"
   ]
  },
  {
   "cell_type": "code",
   "execution_count": 6,
   "metadata": {
    "ExecuteTime": {
     "end_time": "2020-04-29T14:44:03.956795Z",
     "start_time": "2020-04-29T14:41:55.899604Z"
    }
   },
   "outputs": [
    {
     "name": "stdout",
     "output_type": "stream",
     "text": [
      "The Elements of Statistical Learning downloaded successfully\n",
      "Introductory Time Series with R downloaded successfully\n",
      "A Beginner’s Guide to R downloaded successfully\n",
      "Introduction to Evolutionary Computing downloaded successfully\n",
      "Data Analysis downloaded successfully\n",
      "Linear and Nonlinear Programming downloaded successfully\n",
      "Introduction to Partial Differential Equations downloaded successfully\n",
      "Fundamentals of Robotic Mechanical Systems downloaded successfully\n",
      "Data Structures and Algorithms with Python downloaded successfully\n",
      "Introduction to Partial Differential Equations downloaded successfully\n",
      "Methods of Mathematical Modelling downloaded successfully\n",
      "LaTeX in 24 Hours downloaded successfully\n",
      "Introduction to Statistics and Data Analysis  downloaded successfully\n",
      "Principles of Data Mining downloaded successfully\n",
      "Computer Vision downloaded successfully\n",
      "Data Mining downloaded successfully\n",
      "Computational Geometry downloaded successfully\n",
      "Robotics, Vision and Control downloaded successfully\n",
      "Statistical Analysis and Data Display downloaded successfully\n",
      "Statistics and Data Analysis for Financial Engineering downloaded successfully\n",
      "Stochastic Processes and Calculus downloaded successfully\n",
      "Statistical Analysis of Clinical Data on a Pocket Calculator downloaded successfully\n",
      "Clinical Data Analysis on a Pocket Calculator downloaded successfully\n",
      "The Data Science Design Manual downloaded successfully\n",
      "An Introduction to Machine Learning downloaded successfully\n",
      "Guide to Discrete Mathematics downloaded successfully\n",
      "Introduction to Time Series and Forecasting downloaded successfully\n",
      "Multivariate Calculus and Geometry downloaded successfully\n",
      "Statistics and Analysis of Scientific Data downloaded successfully\n",
      "Modelling Computing Systems downloaded successfully\n",
      "'NoneType' object has no attribute 'text'\n",
      "Linear Algebra Done Right downloaded successfully\n",
      "Linear Algebra downloaded successfully\n",
      "Algebra downloaded successfully\n",
      "Understanding Analysis downloaded successfully\n",
      "Linear Programming downloaded successfully\n",
      "Understanding Statistics Using R downloaded successfully\n",
      "An Introduction to Statistical Learning downloaded successfully\n",
      "Statistical Learning from a Regression Perspective downloaded successfully\n",
      "Applied Partial Differential Equations downloaded successfully\n",
      "Robotics downloaded successfully\n",
      "Regression Modeling Strategies downloaded successfully\n",
      "A Modern Introduction to Probability and Statistics downloaded successfully\n",
      "The Python Workbook downloaded successfully\n",
      "Machine Learning in Medicine - a Complete Overview downloaded successfully\n",
      "Object-Oriented Analysis, Design and Implementation downloaded successfully\n",
      "Introduction to Data Science downloaded successfully\n",
      "Applied Predictive Modeling downloaded successfully\n",
      "Python For ArcGIS downloaded successfully\n",
      "Concise Guide to Databases downloaded successfully\n",
      "Digital Image Processing downloaded successfully\n",
      "Bayesian Essentials with R downloaded successfully\n",
      "Robotics, Vision and Control downloaded successfully\n",
      "Foundations of Programming Languages downloaded successfully\n",
      "Introduction to Artificial Intelligence downloaded successfully\n",
      "Introduction to Deep Learning downloaded successfully\n",
      "Linear Algebra and Analytic Geometry for Physical Sciences downloaded successfully\n",
      "Applied Linear Algebra downloaded successfully\n",
      "Neural Networks and Deep Learning downloaded successfully\n",
      "Data Science and Predictive Analytics downloaded successfully\n",
      "Analysis for Computer Scientists downloaded successfully\n",
      "Excel Data Analysis downloaded successfully\n",
      "A Beginners Guide to Python 3 Programming downloaded successfully\n",
      "Advanced Guide to Python 3 Programming downloaded successfully\n"
     ]
    }
   ],
   "source": [
    "for link in book_urls:\n",
    "    try:\n",
    "        link_html = requests.get(link)\n",
    "        link_soup = BeautifulSoup(link_html.content, 'lxml')\n",
    "        page_headers = link_soup.find_all('div', attrs={'class':'page-title'})\n",
    "        book_title = [item.find('h1').text for item in page_headers][0]\n",
    "        full_book_link = link_soup.find_all('a', attrs={'title': re.compile(\"Download this book\")})\n",
    "        url = full_book_link[0].get('href')\n",
    "        book = requests.get(f'http://link.springer.com{url}', allow_redirects=True)\n",
    "        with open (f'{home_dir}/{book_title}.pdf', 'wb') as f:\n",
    "            f.write(book.content)\n",
    "        print(f'{book_title} downloaded successfully')\n",
    "    except Exception as e:\n",
    "        print(e)"
   ]
  }
 ],
 "metadata": {
  "hide_input": false,
  "kernelspec": {
   "display_name": "csci",
   "language": "python",
   "name": "csci"
  },
  "language_info": {
   "codemirror_mode": {
    "name": "ipython",
    "version": 3
   },
   "file_extension": ".py",
   "mimetype": "text/x-python",
   "name": "python",
   "nbconvert_exporter": "python",
   "pygments_lexer": "ipython3",
   "version": "3.8.2"
  }
 },
 "nbformat": 4,
 "nbformat_minor": 4
}
